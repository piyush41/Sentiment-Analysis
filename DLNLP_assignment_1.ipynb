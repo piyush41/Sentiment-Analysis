{
 "cells": [
  {
   "cell_type": "markdown",
   "metadata": {
    "id": "1Zj5kYhSdt_y"
   },
   "source": [
    "Read the files \n"
   ]
  },
  {
   "cell_type": "code",
   "execution_count": 1,
   "metadata": {
    "id": "q9SpDoBdvNE_"
   },
   "outputs": [],
   "source": [
    "with open('Train.pos', 'r',encoding='utf-8', errors='ignore') as f:\n",
    "    txtpos = f.readlines()\n",
    "\n",
    "with open('Train.neg','r',encoding='utf-8', errors='ignore') as f:\n",
    "    txtneg = f.readlines()    "
   ]
  },
  {
   "cell_type": "code",
   "execution_count": 2,
   "metadata": {
    "colab": {
     "base_uri": "https://localhost:8080/"
    },
    "id": "qA1cpPNPc-45",
    "outputId": "cc101b52-8727-49b8-d05c-9111e4bff6a6"
   },
   "outputs": [
    {
     "data": {
      "text/plain": [
       "5000"
      ]
     },
     "execution_count": 2,
     "metadata": {},
     "output_type": "execute_result"
    }
   ],
   "source": [
    "len(txtpos)"
   ]
  },
  {
   "cell_type": "code",
   "execution_count": 3,
   "metadata": {
    "colab": {
     "base_uri": "https://localhost:8080/"
    },
    "id": "db_gqWExdKu1",
    "outputId": "acf33850-aba1-4bc3-a1d2-12ff3a5aeed2"
   },
   "outputs": [
    {
     "data": {
      "text/plain": [
       "5000"
      ]
     },
     "execution_count": 3,
     "metadata": {},
     "output_type": "execute_result"
    }
   ],
   "source": [
    "len(txtneg)"
   ]
  },
  {
   "cell_type": "code",
   "execution_count": 4,
   "metadata": {},
   "outputs": [
    {
     "data": {
      "text/plain": [
       "'director kapur is a filmmaker with a real flair for epic landscapes and adventure , and this is a better film than his earlier english-language movie , the overpraised elizabeth . \\n'"
      ]
     },
     "execution_count": 4,
     "metadata": {},
     "output_type": "execute_result"
    }
   ],
   "source": [
    "txtpos[87]"
   ]
  },
  {
   "cell_type": "code",
   "execution_count": 5,
   "metadata": {
    "colab": {
     "base_uri": "https://localhost:8080/"
    },
    "id": "9ChwylgI4X_7",
    "outputId": "05f416f0-ceff-4924-ab73-ca5d577a78c1"
   },
   "outputs": [
    {
     "data": {
      "text/plain": [
       "10000"
      ]
     },
     "execution_count": 5,
     "metadata": {},
     "output_type": "execute_result"
    }
   ],
   "source": [
    "import random\n",
    "random.shuffle(txtneg)\n",
    "random.shuffle(txtpos)\n",
    "txt=txtneg+txtpos\n",
    "len(txt)"
   ]
  },
  {
   "cell_type": "code",
   "execution_count": 6,
   "metadata": {
    "id": "EBFmCuB75mnZ"
   },
   "outputs": [],
   "source": [
    "from nltk.corpus import stopwords\n",
    "import re\n",
    "import numpy as np\n",
    "import matplotlib.pyplot as plt\n",
    "\n",
    "stopwords= set(['br', 'the', 'i', 'me', 'my', 'myself', 'we', 'our', 'ours', 'ourselves', 'you', \"you're\", \"you've\",\\\n",
    "            \"you'll\", \"you'd\", 'your', 'yours', 'yourself', 'yourselves', 'he', 'him', 'his', 'himself', \\\n",
    "            'she', \"she's\", 'her', 'hers', 'herself', 'it', \"it's\", 'its', 'itself', 'they', 'them', 'their',\\\n",
    "            'theirs', 'themselves', 'what', 'which', 'who', 'whom', 'this', 'that', \"that'll\", 'these', 'those', \\\n",
    "            'am', 'is', 'are', 'was', 'were', 'be', 'been', 'being', 'have', 'has', 'had', 'having', 'do', 'does', \\\n",
    "            'did', 'doing', 'a', 'an', 'the', 'and', 'but', 'if', 'or', 'because', 'as', 'until', 'while', 'of', \\\n",
    "            'at', 'by', 'for', 'with', 'about', 'against', 'between', 'into', 'through', 'during', 'before', 'after',\\\n",
    "            'above', 'below', 'to', 'from', 'up', 'down', 'in', 'out', 'on', 'off', 'over', 'under', 'again', 'further',\\\n",
    "            'then', 'once', 'here', 'there', 'when', 'where', 'why', 'how', 'all', 'any', 'both', 'each', 'few', 'more',\\\n",
    "            'most', 'other', 'some', 'such', 'only', 'own', 'same', 'so', 'than', 'too', 'very', \\\n",
    "            's', 't', 'can', 'will', 'just', 'don', \"don't\", 'should', \"should've\", 'now', 'd', 'll', 'm', 'o', 're', \\\n",
    "            've', 'y', 'ain', 'aren', \"aren't\", 'couldn', \"couldn't\", 'didn', \"didn't\", 'doesn', \"doesn't\", 'hadn',\\\n",
    "            \"hadn't\", 'hasn', \"hasn't\", 'haven', \"haven't\", 'isn', \"isn't\", 'ma', 'mightn', \"mightn't\", 'mustn',\\\n",
    "            \"mustn't\", 'needn', \"needn't\", 'shan', \"shan't\", 'shouldn', \"shouldn't\", 'wasn', \"wasn't\", 'weren', \"weren't\", \\\n",
    "            'won', \"won't\", 'wouldn', \"wouldn't\"])"
   ]
  },
  {
   "cell_type": "code",
   "execution_count": 7,
   "metadata": {
    "id": "PyzKoINcxIfO"
   },
   "outputs": [],
   "source": [
    "def preprocessing(corpus):\n",
    "  for i in range(len(corpus)):\n",
    "    corpus[i]=corpus[i].lower()\n",
    "    corpus[i]=re.sub('[^A-Za-z0-9]+', ' ', corpus[i])\n",
    "    corpus[i]=' '.join(e.lower() for e in corpus[i].split() if e.lower() not in stopwords)\n",
    "  return corpus"
   ]
  },
  {
   "cell_type": "code",
   "execution_count": 8,
   "metadata": {},
   "outputs": [],
   "source": [
    "txt=preprocessing(txt)\n",
    "labels=[0]*5000+[1]*5000\n"
   ]
  },
  {
   "cell_type": "code",
   "execution_count": 9,
   "metadata": {
    "id": "WlFGcUjfdyzd"
   },
   "outputs": [],
   "source": [
    "from gensim.models import Word2Vec\n",
    "from gensim.models import KeyedVectors\n",
    "import gensim"
   ]
  },
  {
   "cell_type": "code",
   "execution_count": 10,
   "metadata": {
    "id": "a0Q0lgX-vn3V"
   },
   "outputs": [
    {
     "ename": "KeyboardInterrupt",
     "evalue": "",
     "output_type": "error",
     "traceback": [
      "\u001b[0;31m---------------------------------------------------------------------------\u001b[0m",
      "\u001b[0;31mKeyboardInterrupt\u001b[0m                         Traceback (most recent call last)",
      "\u001b[1;32m/raid/home/piyushmishra/Workspace/DLNLP/Assignment1/DLNLP_assignment_1.ipynb Cell 11\u001b[0m in \u001b[0;36m<cell line: 2>\u001b[0;34m()\u001b[0m\n\u001b[1;32m      <a href='vscode-notebook-cell://ssh-remote%2B10.192.12.61/raid/home/piyushmishra/Workspace/DLNLP/Assignment1/DLNLP_assignment_1.ipynb#X13sdnNjb2RlLXJlbW90ZQ%3D%3D?line=0'>1</a>\u001b[0m \u001b[39m# Word2vec model\u001b[39;00m\n\u001b[0;32m----> <a href='vscode-notebook-cell://ssh-remote%2B10.192.12.61/raid/home/piyushmishra/Workspace/DLNLP/Assignment1/DLNLP_assignment_1.ipynb#X13sdnNjb2RlLXJlbW90ZQ%3D%3D?line=1'>2</a>\u001b[0m model \u001b[39m=\u001b[39m KeyedVectors\u001b[39m.\u001b[39;49mload_word2vec_format(\u001b[39m\"\u001b[39;49m\u001b[39mGoogleNews-vectors-negative300.bin.gz\u001b[39;49m\u001b[39m\"\u001b[39;49m, binary\u001b[39m=\u001b[39;49m\u001b[39mTrue\u001b[39;49;00m)\n\u001b[1;32m      <a href='vscode-notebook-cell://ssh-remote%2B10.192.12.61/raid/home/piyushmishra/Workspace/DLNLP/Assignment1/DLNLP_assignment_1.ipynb#X13sdnNjb2RlLXJlbW90ZQ%3D%3D?line=2'>3</a>\u001b[0m Word2Vecdict\u001b[39m=\u001b[39m{}\n\u001b[1;32m      <a href='vscode-notebook-cell://ssh-remote%2B10.192.12.61/raid/home/piyushmishra/Workspace/DLNLP/Assignment1/DLNLP_assignment_1.ipynb#X13sdnNjb2RlLXJlbW90ZQ%3D%3D?line=3'>4</a>\u001b[0m \u001b[39mfor\u001b[39;00m key \u001b[39min\u001b[39;00m model\u001b[39m.\u001b[39mvocab\u001b[39m.\u001b[39mkeys():\n",
      "File \u001b[0;32m~/miniconda3/envs/newenv/lib/python3.8/site-packages/gensim/models/keyedvectors.py:1547\u001b[0m, in \u001b[0;36mWord2VecKeyedVectors.load_word2vec_format\u001b[0;34m(cls, fname, fvocab, binary, encoding, unicode_errors, limit, datatype)\u001b[0m\n\u001b[1;32m   1509\u001b[0m \u001b[39m\"\"\"Load the input-hidden weight matrix from the original C word2vec-tool format.\u001b[39;00m\n\u001b[1;32m   1510\u001b[0m \n\u001b[1;32m   1511\u001b[0m \u001b[39mWarnings\u001b[39;00m\n\u001b[0;32m   (...)\u001b[0m\n\u001b[1;32m   1544\u001b[0m \n\u001b[1;32m   1545\u001b[0m \u001b[39m\"\"\"\u001b[39;00m\n\u001b[1;32m   1546\u001b[0m \u001b[39m# from gensim.models.word2vec import load_word2vec_format\u001b[39;00m\n\u001b[0;32m-> 1547\u001b[0m \u001b[39mreturn\u001b[39;00m _load_word2vec_format(\n\u001b[1;32m   1548\u001b[0m     \u001b[39mcls\u001b[39;49m, fname, fvocab\u001b[39m=\u001b[39;49mfvocab, binary\u001b[39m=\u001b[39;49mbinary, encoding\u001b[39m=\u001b[39;49mencoding, unicode_errors\u001b[39m=\u001b[39;49municode_errors,\n\u001b[1;32m   1549\u001b[0m     limit\u001b[39m=\u001b[39;49mlimit, datatype\u001b[39m=\u001b[39;49mdatatype)\n",
      "File \u001b[0;32m~/miniconda3/envs/newenv/lib/python3.8/site-packages/gensim/models/utils_any2vec.py:285\u001b[0m, in \u001b[0;36m_load_word2vec_format\u001b[0;34m(cls, fname, fvocab, binary, encoding, unicode_errors, limit, datatype, binary_chunk_size)\u001b[0m\n\u001b[1;32m    282\u001b[0m result\u001b[39m.\u001b[39mvectors \u001b[39m=\u001b[39m zeros((vocab_size, vector_size), dtype\u001b[39m=\u001b[39mdatatype)\n\u001b[1;32m    284\u001b[0m \u001b[39mif\u001b[39;00m binary:\n\u001b[0;32m--> 285\u001b[0m     _word2vec_read_binary(fin, result, counts,\n\u001b[1;32m    286\u001b[0m         vocab_size, vector_size, datatype, unicode_errors, binary_chunk_size)\n\u001b[1;32m    287\u001b[0m \u001b[39melse\u001b[39;00m:\n\u001b[1;32m    288\u001b[0m     _word2vec_read_text(fin, result, counts, vocab_size, vector_size, datatype, unicode_errors, encoding)\n",
      "File \u001b[0;32m~/miniconda3/envs/newenv/lib/python3.8/site-packages/gensim/models/utils_any2vec.py:202\u001b[0m, in \u001b[0;36m_word2vec_read_binary\u001b[0;34m(fin, result, counts, vocab_size, vector_size, datatype, unicode_errors, binary_chunk_size)\u001b[0m\n\u001b[1;32m    199\u001b[0m tot_processed_words \u001b[39m=\u001b[39m \u001b[39m0\u001b[39m\n\u001b[1;32m    201\u001b[0m \u001b[39mwhile\u001b[39;00m tot_processed_words \u001b[39m<\u001b[39m vocab_size:\n\u001b[0;32m--> 202\u001b[0m     new_chunk \u001b[39m=\u001b[39m fin\u001b[39m.\u001b[39;49mread(binary_chunk_size)\n\u001b[1;32m    203\u001b[0m     chunk \u001b[39m+\u001b[39m\u001b[39m=\u001b[39m new_chunk\n\u001b[1;32m    204\u001b[0m     processed_words, chunk \u001b[39m=\u001b[39m _add_bytes_to_result(\n\u001b[1;32m    205\u001b[0m         result, counts, chunk, vocab_size, vector_size, datatype, unicode_errors)\n",
      "File \u001b[0;32m~/miniconda3/envs/newenv/lib/python3.8/gzip.py:292\u001b[0m, in \u001b[0;36mGzipFile.read\u001b[0;34m(self, size)\u001b[0m\n\u001b[1;32m    290\u001b[0m     \u001b[39mimport\u001b[39;00m \u001b[39merrno\u001b[39;00m\n\u001b[1;32m    291\u001b[0m     \u001b[39mraise\u001b[39;00m \u001b[39mOSError\u001b[39;00m(errno\u001b[39m.\u001b[39mEBADF, \u001b[39m\"\u001b[39m\u001b[39mread() on write-only GzipFile object\u001b[39m\u001b[39m\"\u001b[39m)\n\u001b[0;32m--> 292\u001b[0m \u001b[39mreturn\u001b[39;00m \u001b[39mself\u001b[39;49m\u001b[39m.\u001b[39;49m_buffer\u001b[39m.\u001b[39;49mread(size)\n",
      "File \u001b[0;32m~/miniconda3/envs/newenv/lib/python3.8/_compression.py:68\u001b[0m, in \u001b[0;36mDecompressReader.readinto\u001b[0;34m(self, b)\u001b[0m\n\u001b[1;32m     66\u001b[0m \u001b[39mdef\u001b[39;00m \u001b[39mreadinto\u001b[39m(\u001b[39mself\u001b[39m, b):\n\u001b[1;32m     67\u001b[0m     \u001b[39mwith\u001b[39;00m \u001b[39mmemoryview\u001b[39m(b) \u001b[39mas\u001b[39;00m view, view\u001b[39m.\u001b[39mcast(\u001b[39m\"\u001b[39m\u001b[39mB\u001b[39m\u001b[39m\"\u001b[39m) \u001b[39mas\u001b[39;00m byte_view:\n\u001b[0;32m---> 68\u001b[0m         data \u001b[39m=\u001b[39m \u001b[39mself\u001b[39;49m\u001b[39m.\u001b[39;49mread(\u001b[39mlen\u001b[39;49m(byte_view))\n\u001b[1;32m     69\u001b[0m         byte_view[:\u001b[39mlen\u001b[39m(data)] \u001b[39m=\u001b[39m data\n\u001b[1;32m     70\u001b[0m     \u001b[39mreturn\u001b[39;00m \u001b[39mlen\u001b[39m(data)\n",
      "File \u001b[0;32m~/miniconda3/envs/newenv/lib/python3.8/gzip.py:487\u001b[0m, in \u001b[0;36m_GzipReader.read\u001b[0;34m(self, size)\u001b[0m\n\u001b[1;32m    484\u001b[0m \u001b[39m# Read a chunk of data from the file\u001b[39;00m\n\u001b[1;32m    485\u001b[0m buf \u001b[39m=\u001b[39m \u001b[39mself\u001b[39m\u001b[39m.\u001b[39m_fp\u001b[39m.\u001b[39mread(io\u001b[39m.\u001b[39mDEFAULT_BUFFER_SIZE)\n\u001b[0;32m--> 487\u001b[0m uncompress \u001b[39m=\u001b[39m \u001b[39mself\u001b[39;49m\u001b[39m.\u001b[39;49m_decompressor\u001b[39m.\u001b[39;49mdecompress(buf, size)\n\u001b[1;32m    488\u001b[0m \u001b[39mif\u001b[39;00m \u001b[39mself\u001b[39m\u001b[39m.\u001b[39m_decompressor\u001b[39m.\u001b[39munconsumed_tail \u001b[39m!=\u001b[39m \u001b[39mb\u001b[39m\u001b[39m\"\u001b[39m\u001b[39m\"\u001b[39m:\n\u001b[1;32m    489\u001b[0m     \u001b[39mself\u001b[39m\u001b[39m.\u001b[39m_fp\u001b[39m.\u001b[39mprepend(\u001b[39mself\u001b[39m\u001b[39m.\u001b[39m_decompressor\u001b[39m.\u001b[39munconsumed_tail)\n",
      "\u001b[0;31mKeyboardInterrupt\u001b[0m: "
     ]
    }
   ],
   "source": [
    "# Word2vec model\n",
    "model = KeyedVectors.load_word2vec_format(\"GoogleNews-vectors-negative300.bin.gz\", binary=True)\n",
    "Word2Vecdict={}\n",
    "for key in model.vocab.keys():\n",
    "    Word2Vecdict[key]=model.wv[key]\n",
    "    "
   ]
  },
  {
   "cell_type": "code",
   "execution_count": null,
   "metadata": {},
   "outputs": [],
   "source": [
    "\n",
    "# Glove Model\n",
    "glove_dict = {}\n",
    "with open(\"glove.6B/glove.6B.300d.txt\", 'r') as f:\n",
    "    for line in f:\n",
    "        values = line.split()\n",
    "        word = values[0]\n",
    "        vector = np.asarray(values[1:], \"float32\")\n",
    "        glove_dict[word] = vector"
   ]
  },
  {
   "cell_type": "code",
   "execution_count": null,
   "metadata": {},
   "outputs": [
    {
     "name": "stderr",
     "output_type": "stream",
     "text": [
      "Warning : `load_model` does not return WordVectorModel or SupervisedModel any more, but a `FastText` object which is very similar.\n"
     ]
    }
   ],
   "source": [
    "import fasttext.util\n",
    "fasttext.util.download_model('en', if_exists='ignore')  # English\n",
    "ft = fasttext.load_model('cc.en.300.bin')\n",
    "fasttextdict={}\n",
    "for key in ft.words:\n",
    "    fasttextdict[key]=ft[key]"
   ]
  },
  {
   "cell_type": "code",
   "execution_count": null,
   "metadata": {},
   "outputs": [],
   "source": [
    "def avg_sentence(corpus, word_dict,avg=0):\n",
    "  embeddings=[]\n",
    "\n",
    "  for sentence in corpus:\n",
    "    v = np.zeros(300)\n",
    "    for w in sentence.split():\n",
    "    #     if w in wv:\n",
    "        \n",
    "        \n",
    "        if avg==0:\n",
    "            if w in word_dict.keys():\n",
    "                v += word_dict[w]\n",
    "            # else:\n",
    "            #     v+=np.random.randn(300)\n",
    "\n",
    "        # Take the average\n",
    "        else:\n",
    "            if w in Word2Vecdict.keys():\n",
    "                v += Word2Vecdict[w]\n",
    "            if w in fasttextdict.keys():\n",
    "                v += fasttextdict[w]\n",
    "            if w in glove_dict.keys():\n",
    "                v += glove_dict[w]\n",
    "            v/=3\n",
    "\n",
    "    embeddings.append(v/len(sentence))\n",
    "  return embeddings"
   ]
  },
  {
   "cell_type": "code",
   "execution_count": null,
   "metadata": {},
   "outputs": [
    {
     "data": {
      "text/plain": [
       "23"
      ]
     },
     "execution_count": 14,
     "metadata": {},
     "output_type": "execute_result"
    }
   ],
   "source": [
    "len(txt[0])"
   ]
  },
  {
   "cell_type": "code",
   "execution_count": null,
   "metadata": {},
   "outputs": [],
   "source": [
    "# def avg_sentence1(sentence, word_dict,avg=0):  \n",
    "#     v = np.zeros(300)\n",
    "#     for w in sentence:\n",
    "#     #     if w in wv:\n",
    "#         if avg==0:\n",
    "#             if w in word_dict.keys():\n",
    "#                 v += word_dict[w]\n",
    "\n",
    "#         # Take the average\n",
    "#         else:\n",
    "#             if w in Word2Vecdict.keys():\n",
    "#                 v += Word2Vecdict[w]\n",
    "#             if w in fasttextdict.keys():\n",
    "#                 v += fasttextdict[w]\n",
    "#             if w in glove_dict.keys():\n",
    "#                 v += glove_dict[w]\n",
    "#             v/=3\n",
    "#     return v/len(sentence)"
   ]
  },
  {
   "cell_type": "code",
   "execution_count": null,
   "metadata": {},
   "outputs": [],
   "source": [
    "# import numpy as np\n",
    "# X_train=[]\n",
    "# Y_train=[]\n",
    "# X_val=[]\n",
    "# Y_val=[]\n",
    "# count=0\n",
    "# currdict=glove_dict\n",
    "\n",
    "# for i in txt:\n",
    "#     if(count<4000):\n",
    "#         Y_train.append(0)\n",
    "#         X_train.append(avg_sentence1(i.split(),currdict))\n",
    "#     elif(count<5000):\n",
    "#         Y_val.append(0)\n",
    "#         X_val.append(avg_sentence1(i.split(),currdict))\n",
    "#     elif(count<9000):\n",
    "#         Y_train.append(1)\n",
    "#         X_train.append(avg_sentence1(i.split(),currdict))\n",
    "#     else:\n",
    "#         Y_val.append(1)\n",
    "#         X_val.append(avg_sentence1(i.split(),currdict))\n",
    "#     count=count+1"
   ]
  },
  {
   "cell_type": "code",
   "execution_count": null,
   "metadata": {},
   "outputs": [
    {
     "name": "stdout",
     "output_type": "stream",
     "text": [
      "8000 2000\n"
     ]
    }
   ],
   "source": [
    "from sklearn.model_selection import train_test_split\n",
    "\n",
    "X_train, X_val, Y_train, Y_val = train_test_split(txt, labels, test_size=0.2,stratify=labels)\n",
    "print(len(X_train), len(X_val))"
   ]
  },
  {
   "cell_type": "code",
   "execution_count": null,
   "metadata": {},
   "outputs": [],
   "source": [
    "currdict=fasttextdict\n",
    "X_train=avg_sentence(X_train,currdict)\n",
    "X_val=avg_sentence(X_val,currdict)"
   ]
  },
  {
   "cell_type": "code",
   "execution_count": null,
   "metadata": {},
   "outputs": [
    {
     "name": "stderr",
     "output_type": "stream",
     "text": [
      "/raid/home/piyushmishra/miniconda3/envs/newenv/lib/python3.8/site-packages/tqdm/auto.py:22: TqdmWarning: IProgress not found. Please update jupyter and ipywidgets. See https://ipywidgets.readthedocs.io/en/stable/user_install.html\n",
      "  from .autonotebook import tqdm as notebook_tqdm\n"
     ]
    }
   ],
   "source": [
    "import torch\n",
    "import torch.nn as nn\n",
    "from torch import optim\n",
    "import torch.nn.functional as F\n",
    "X_train=torch.tensor(X_train)\n",
    "X_train=X_train.float()\n",
    "Y_train=torch.tensor(Y_train)\n",
    "Y_train=Y_train.long()\n",
    "X_val=torch.tensor(X_val)\n",
    "X_val=X_val.float()\n",
    "Y_val=torch.tensor(Y_val)\n",
    "Y_val=Y_val.long()\n"
   ]
  },
  {
   "cell_type": "code",
   "execution_count": null,
   "metadata": {},
   "outputs": [
    {
     "ename": "RuntimeError",
     "evalue": "CUDA error: out of memory",
     "output_type": "error",
     "traceback": [
      "\u001b[0;31m---------------------------------------------------------------------------\u001b[0m",
      "\u001b[0;31mRuntimeError\u001b[0m                              Traceback (most recent call last)",
      "\u001b[1;32m/raid/home/piyushmishra/dlnlp/Assignment1/Assignment1/DLNLP_assignment_1.ipynb Cell 21\u001b[0m in \u001b[0;36m<cell line: 4>\u001b[0;34m()\u001b[0m\n\u001b[1;32m      <a href='vscode-notebook-cell://ssh-remote%2B10.192.12.61/raid/home/piyushmishra/dlnlp/Assignment1/Assignment1/DLNLP_assignment_1.ipynb#X26sdnNjb2RlLXJlbW90ZQ%3D%3D?line=0'>1</a>\u001b[0m \u001b[39m#put the code into gpu\u001b[39;00m\n\u001b[1;32m      <a href='vscode-notebook-cell://ssh-remote%2B10.192.12.61/raid/home/piyushmishra/dlnlp/Assignment1/Assignment1/DLNLP_assignment_1.ipynb#X26sdnNjb2RlLXJlbW90ZQ%3D%3D?line=1'>2</a>\u001b[0m device \u001b[39m=\u001b[39m torch\u001b[39m.\u001b[39mdevice(\u001b[39m\"\u001b[39m\u001b[39mcuda\u001b[39m\u001b[39m\"\u001b[39m)\n\u001b[0;32m----> <a href='vscode-notebook-cell://ssh-remote%2B10.192.12.61/raid/home/piyushmishra/dlnlp/Assignment1/Assignment1/DLNLP_assignment_1.ipynb#X26sdnNjb2RlLXJlbW90ZQ%3D%3D?line=3'>4</a>\u001b[0m X_train\u001b[39m=\u001b[39mX_train\u001b[39m.\u001b[39;49mto(device)\n\u001b[1;32m      <a href='vscode-notebook-cell://ssh-remote%2B10.192.12.61/raid/home/piyushmishra/dlnlp/Assignment1/Assignment1/DLNLP_assignment_1.ipynb#X26sdnNjb2RlLXJlbW90ZQ%3D%3D?line=4'>5</a>\u001b[0m Y_train\u001b[39m=\u001b[39mY_train\u001b[39m.\u001b[39mto(device)\n\u001b[1;32m      <a href='vscode-notebook-cell://ssh-remote%2B10.192.12.61/raid/home/piyushmishra/dlnlp/Assignment1/Assignment1/DLNLP_assignment_1.ipynb#X26sdnNjb2RlLXJlbW90ZQ%3D%3D?line=5'>6</a>\u001b[0m X_val\u001b[39m=\u001b[39mX_val\u001b[39m.\u001b[39mto(device)\n",
      "\u001b[0;31mRuntimeError\u001b[0m: CUDA error: out of memory"
     ]
    }
   ],
   "source": [
    "#put the code into gpu\n",
    "device = torch.device(\"cuda\")\n",
    "\n",
    "X_train=X_train.to(device)\n",
    "Y_train=Y_train.to(device)\n",
    "X_val=X_val.to(device)\n",
    "Y_val=Y_val.to(device)"
   ]
  },
  {
   "cell_type": "code",
   "execution_count": null,
   "metadata": {},
   "outputs": [
    {
     "data": {
      "text/plain": [
       "torch.Size([8000, 300])"
      ]
     },
     "execution_count": 22,
     "metadata": {},
     "output_type": "execute_result"
    }
   ],
   "source": [
    "X_train.shape"
   ]
  },
  {
   "cell_type": "code",
   "execution_count": null,
   "metadata": {},
   "outputs": [],
   "source": [
    "class FirstNetwork_v2(nn.Module):\n",
    "  \n",
    "  def __init__(self):\n",
    "    super().__init__()\n",
    "    torch.manual_seed(0)\n",
    "    self.net = nn.Sequential(\n",
    "        nn.Linear(300, 128), \n",
    "        nn.Dropout(p=0.5),\n",
    "        nn.ReLU(), \n",
    "        nn.Linear(128, 64),\n",
    "        nn.Dropout(p=0.5),\n",
    "        nn.ReLU(),\n",
    "        nn.Linear(64, 32),\n",
    "        nn.Dropout(p=0.5),\n",
    "        nn.ReLU(),\n",
    "        nn.Linear(32, 2), \n",
    "        nn.Softmax()\n",
    "    )\n",
    "\n",
    "  def forward(self, X):\n",
    "    return self.net(X)"
   ]
  },
  {
   "cell_type": "code",
   "execution_count": null,
   "metadata": {},
   "outputs": [],
   "source": [
    "def accuracy(y_hat, y):\n",
    "  pred = torch.argmax(y_hat, dim=1)\n",
    "  return (pred == y).float().mean()"
   ]
  },
  {
   "cell_type": "code",
   "execution_count": null,
   "metadata": {},
   "outputs": [],
   "source": [
    "def fit_v2(x, y, model, opt, loss_fn, epochs = 1000):\n",
    "  loss_arr=[]\n",
    "  training_arr=[]\n",
    "  val_arr=[]\n",
    "  training_arr.append(accuracy(fn(X_train), Y_train))\n",
    "  val_arr.append(accuracy(fn(X_val), Y_val))\n",
    "  for epoch in range(epochs):\n",
    "    loss = loss_fn(model(x), y)\n",
    "    loss.backward()\n",
    "    opt.step()\n",
    "    opt.zero_grad()\n",
    "    loss_arr.append(loss.item())\n",
    "    training_arr.append(accuracy(fn(X_train), Y_train))\n",
    "    val_arr.append(accuracy(fn(X_val), Y_val))\n",
    "  plt.plot(training_arr, 'r-')\n",
    "  plt.plot(val_arr, 'b-')\n",
    "  \n",
    "  plt.show()\n",
    "  return loss_arr"
   ]
  },
  {
   "cell_type": "code",
   "execution_count": null,
   "metadata": {},
   "outputs": [],
   "source": [
    "fn = FirstNetwork_v2()\n",
    "fn.to(device)\n",
    "\n",
    "loss_fn = F.cross_entropy\n",
    "opt = optim.Adam(fn.parameters(),weight_decay=1e-5,lr=0.001)\n"
   ]
  },
  {
   "cell_type": "code",
   "execution_count": null,
   "metadata": {},
   "outputs": [
    {
     "name": "stderr",
     "output_type": "stream",
     "text": [
      "/raid/home/piyushmishra/miniconda3/envs/newenv/lib/python3.8/site-packages/torch/nn/modules/container.py:117: UserWarning: Implicit dimension choice for softmax has been deprecated. Change the call to include dim=X as an argument.\n",
      "  input = module(input)\n"
     ]
    },
    {
     "data": {
      "image/png": "[encoded data removed]",
      "text/plain": [
       "<Figure size 432x288 with 1 Axes>"
      ]
     },
     "metadata": {
      "needs_background": "light"
     },
     "output_type": "display_data"
    }
   ],
   "source": [
    "opt = optim.Adam(fn.parameters(),weight_decay=1e-5,lr=0.001)\n",
    "loss_arr=fit_v2(X_train, Y_train, fn, opt, loss_fn)\n"
   ]
  },
  {
   "cell_type": "code",
   "execution_count": null,
   "metadata": {},
   "outputs": [
    {
     "data": {
      "image/png": "[encoded data removed]",
      "text/plain": [
       "<Figure size 432x288 with 1 Axes>"
      ]
     },
     "metadata": {
      "needs_background": "light"
     },
     "output_type": "display_data"
    }
   ],
   "source": [
    "plt.plot(loss_arr, 'r-')\n",
    "plt.show()\n"
   ]
  },
  {
   "cell_type": "code",
   "execution_count": null,
   "metadata": {},
   "outputs": [
    {
     "data": {
      "text/plain": [
       "tensor(0.7380, device='cuda:0')"
      ]
     },
     "execution_count": 29,
     "metadata": {},
     "output_type": "execute_result"
    }
   ],
   "source": [
    "accuracy(fn(X_val), Y_val)"
   ]
  },
  {
   "cell_type": "code",
   "execution_count": null,
   "metadata": {},
   "outputs": [
    {
     "data": {
      "text/plain": [
       "tensor(1000, device='cuda:0')"
      ]
     },
     "execution_count": 30,
     "metadata": {},
     "output_type": "execute_result"
    }
   ],
   "source": [
    "Y_val.sum()"
   ]
  },
  {
   "cell_type": "code",
   "execution_count": null,
   "metadata": {},
   "outputs": [],
   "source": [
    "with open('TestData', 'r',encoding='utf-8', errors='ignore') as f:\n",
    "    testdata = f.readlines()"
   ]
  },
  {
   "cell_type": "code",
   "execution_count": null,
   "metadata": {},
   "outputs": [],
   "source": [
    "X_test=preprocessing(testdata)\n",
    "Y_test=[1]*331+[0]*331"
   ]
  },
  {
   "cell_type": "code",
   "execution_count": null,
   "metadata": {},
   "outputs": [],
   "source": [
    "X_test=avg_sentence(X_test,currdict)\n",
    "X_test=torch.tensor(X_test)\n",
    "X_test=X_test.float()\n",
    "X_test=X_test.to(device)\n",
    "Y_test=torch.tensor(Y_test)\n",
    "Y_test=Y_test.long()\n",
    "Y_test=Y_test.to(device)\n",
    "\n"
   ]
  },
  {
   "cell_type": "code",
   "execution_count": null,
   "metadata": {},
   "outputs": [
    {
     "data": {
      "text/plain": [
       "tensor(0.7674, device='cuda:0')"
      ]
     },
     "execution_count": 34,
     "metadata": {},
     "output_type": "execute_result"
    }
   ],
   "source": [
    "accuracy(fn(X_test), Y_test)"
   ]
  },
  {
   "cell_type": "code",
   "execution_count": null,
   "metadata": {},
   "outputs": [
    {
     "ename": "NameError",
     "evalue": "name 'Y_pred' is not defined",
     "output_type": "error",
     "traceback": [
      "\u001b[0;31m---------------------------------------------------------------------------\u001b[0m",
      "\u001b[0;31mNameError\u001b[0m                                 Traceback (most recent call last)",
      "\u001b[1;32m/raid/home/piyushmishra/dlnlp/Assignment1/Assignment1/DLNLP_assignment_1.ipynb Cell 35\u001b[0m in \u001b[0;36m<cell line: 1>\u001b[0;34m()\u001b[0m\n\u001b[0;32m----> <a href='vscode-notebook-cell://ssh-remote%2B10.192.12.61/raid/home/piyushmishra/dlnlp/Assignment1/Assignment1/DLNLP_assignment_1.ipynb#X46sdnNjb2RlLXJlbW90ZQ%3D%3D?line=0'>1</a>\u001b[0m pred \u001b[39m=\u001b[39m torch\u001b[39m.\u001b[39margmax(Y_pred, dim\u001b[39m=\u001b[39m\u001b[39m1\u001b[39m)\n\u001b[1;32m      <a href='vscode-notebook-cell://ssh-remote%2B10.192.12.61/raid/home/piyushmishra/dlnlp/Assignment1/Assignment1/DLNLP_assignment_1.ipynb#X46sdnNjb2RlLXJlbW90ZQ%3D%3D?line=1'>2</a>\u001b[0m x\u001b[39m=\u001b[39m\u001b[39m409\u001b[39m\n\u001b[1;32m      <a href='vscode-notebook-cell://ssh-remote%2B10.192.12.61/raid/home/piyushmishra/dlnlp/Assignment1/Assignment1/DLNLP_assignment_1.ipynb#X46sdnNjb2RlLXJlbW90ZQ%3D%3D?line=2'>3</a>\u001b[0m \u001b[39mprint\u001b[39m(testdata[x])\n",
      "\u001b[0;31mNameError\u001b[0m: name 'Y_pred' is not defined"
     ]
    }
   ],
   "source": [
    "pred = torch.argmax(Y_pred, dim=1)\n",
    "x=409\n",
    "print(testdata[x])\n",
    "pred[x]"
   ]
  },
  {
   "cell_type": "code",
   "execution_count": null,
   "metadata": {},
   "outputs": [
    {
     "data": {
      "text/plain": [
       "torch.Size([8000, 300])"
      ]
     },
     "execution_count": 40,
     "metadata": {},
     "output_type": "execute_result"
    }
   ],
   "source": [
    "X_train.shape"
   ]
  },
  {
   "cell_type": "markdown",
   "metadata": {},
   "source": [
    "Run the Code with batches also"
   ]
  },
  {
   "cell_type": "code",
   "execution_count": null,
   "metadata": {},
   "outputs": [],
   "source": [
    "import torch.utils.data as data_utils\n",
    "\n",
    "train = data_utils.TensorDataset(X_train, Y_train)\n",
    "train_loader = data_utils.DataLoader(train, batch_size=300, shuffle=True)\n",
    "validation = data_utils.TensorDataset(X_val, Y_val)\n",
    "validation_loader = data_utils.DataLoader(validation, batch_size=300, shuffle=True)\n",
    "test = data_utils.TensorDataset(X_test, Y_test)\n",
    "test_loader = data_utils.DataLoader(test, batch_size=300, shuffle=True)"
   ]
  },
  {
   "cell_type": "code",
   "execution_count": null,
   "metadata": {},
   "outputs": [],
   "source": [
    "def evaluation(dataloader):\n",
    "    total, correct = 0, 0\n",
    "    for data in dataloader:\n",
    "        inputs, labels = data\n",
    "        inputs, labels = inputs.to(device), labels.to(device)\n",
    "\n",
    "        outputs = fn(inputs)\n",
    "        _, pred = torch.max(outputs.data, 1)\n",
    "        total += labels.size(0)\n",
    "        correct += (pred == labels).sum().item()\n",
    "    return 100 * correct / total"
   ]
  },
  {
   "cell_type": "code",
   "execution_count": null,
   "metadata": {},
   "outputs": [],
   "source": [
    "def fit_v3(x, y, model, opt, loss_fn, epochs = 600):\n",
    "  loss_arr=[]\n",
    "  training_arr=[]\n",
    "  val_arr=[]\n",
    "  training_arr.append(evaluation(train_loader))\n",
    "  prev=evaluation(validation_loader)\n",
    "  val_arr.append(prev)\n",
    "  patient=0\n",
    "  for epoch in range(epochs):\n",
    "    count=0\n",
    "    loss_value=0\n",
    "    for i, data in enumerate(train_loader):\n",
    "\n",
    "      inputs, labels = data\n",
    "      inputs, labels = inputs.to(device), labels.to(device)\n",
    "      opt.zero_grad()\n",
    "      loss = loss_fn(model(inputs), labels)\n",
    "      \n",
    "      loss.backward()\n",
    "      opt.step()\n",
    "      \n",
    "      count=count+1\n",
    "      loss_value=loss_value+loss.item()\n",
    "    loss_arr.append(loss_value/count)\n",
    "    training_arr.append(evaluation(train_loader))\n",
    "    curr=evaluation(validation_loader)\n",
    "    val_arr.append(curr)\n",
    "    if(prev>curr):\n",
    "      patient=patient+1\n",
    "    prev=curr\n",
    "    \n",
    "   \n",
    "  plt.plot(training_arr, 'r-')\n",
    "  plt.plot(val_arr, 'b-')\n",
    "  plt.show()\n",
    "  return loss_arr"
   ]
  },
  {
   "cell_type": "code",
   "execution_count": null,
   "metadata": {},
   "outputs": [],
   "source": [
    "def fit_v4(x, y, model, opt, loss_fn, epochs = 1000):\n",
    "  loss_arr=[]\n",
    "  training_arr=[]\n",
    "  val_arr=[]\n",
    "  train_losses = []\n",
    "    # to track the validation loss as the model trains\n",
    "  valid_losses = []\n",
    "  avg_train_losses = []\n",
    "    # to track the average validation loss per epoch as the model trains\n",
    "  avg_valid_losses = [] \n",
    "  training_arr.append(evaluation(train_loader))\n",
    "  prev=evaluation(validation_loader)\n",
    "  val_arr.append(prev)\n",
    "  pvalid=0\n",
    "  patient=0\n",
    "  best_acc=0\n",
    "  for epoch in range(epochs):\n",
    "    count=0\n",
    "    loss_value=0\n",
    "    for i, data in enumerate(train_loader):\n",
    "\n",
    "      inputs, labels = data\n",
    "      inputs, labels = inputs.to(device), labels.to(device)\n",
    "      opt.zero_grad()\n",
    "      loss = loss_fn(model(inputs), labels)\n",
    "      \n",
    "      loss.backward()\n",
    "      opt.step()\n",
    "      train_losses.append(loss.item())\n",
    "      count=count+1\n",
    "      loss_value=loss_value+loss.item()\n",
    "\n",
    "    for i, data in enumerate(validation_loader):\n",
    "\n",
    "      inputs, labels = data\n",
    "      inputs, labels = inputs.to(device), labels.to(device)\n",
    "      loss = loss_fn(model(inputs), labels)\n",
    "      \n",
    "      \n",
    "      \n",
    "      valid_losses.append(loss.item())\n",
    "\n",
    "    loss_arr.append(loss_value/count)\n",
    "    curr_train_arr=evaluation(train_loader)\n",
    "    training_arr.append(curr_train_arr)\n",
    "    curr_validation_arr=evaluation(validation_loader)\n",
    "    val_arr.append(curr_validation_arr)\n",
    "    \n",
    "\n",
    "    train_loss = np.average(train_losses)\n",
    "    valid_loss = np.average(valid_losses)\n",
    "    avg_train_losses.append(train_loss)\n",
    "    avg_valid_losses.append(valid_loss)\n",
    "\n",
    "    epoch_len = len(str(epochs))\n",
    "    print_msg = (f'[{epoch:>{epoch_len}}/{epochs:>{epoch_len}}] ' +\n",
    "                  f'train_loss: {train_loss:.5f} ' +\n",
    "                  f'valid_loss: {valid_loss:.5f} ' +\n",
    "                  f'training_arr: {curr_train_arr:.5f} ' +\n",
    "                  f'validation_arr: {curr_validation_arr:.5f} '\n",
    "                  )\n",
    "    \n",
    "    print(print_msg)\n",
    "    if curr_validation_arr >= best_acc:\n",
    "      best_acc = curr_validation_arr\n",
    "      es = 0\n",
    "      torch.save(fn.state_dict(), \"model_\" )\n",
    "    else:\n",
    "        es += 1\n",
    "        print(\"Counter {} of 5\".format(es))\n",
    "\n",
    "        if es > 10:\n",
    "            print(\"Early stopping with best_acc: \", best_acc, \"and val_acc for this epoch: \", curr_validation_arr, \"...\")\n",
    "            break\n",
    "        \n",
    "    # clear lists to track next epoch\n",
    "    train_losses = []\n",
    "    valid_losses = []\n",
    "    # if(len(avg_valid_losses)>1):\n",
    "    #   if(avg_valid_losses[-1]>avg_valid_losses[-2]):\n",
    "    #     pvalid=pvalid+1\n",
    "    #   else:\n",
    "    #     pvalid=0\n",
    "\n",
    "    # if(pvalid==10):\n",
    "    #   break\n",
    "    \n",
    "   \n",
    "  plt.plot(training_arr, 'r-')\n",
    "  plt.plot(val_arr, 'b-')\n",
    "  plt.show()\n",
    "  return loss_arr"
   ]
  },
  {
   "cell_type": "code",
   "execution_count": null,
   "metadata": {},
   "outputs": [
    {
     "name": "stderr",
     "output_type": "stream",
     "text": [
      "/raid/home/piyushmishra/miniconda3/envs/newenv/lib/python3.8/site-packages/torch/nn/modules/container.py:117: UserWarning: Implicit dimension choice for softmax has been deprecated. Change the call to include dim=X as an argument.\n",
      "  input = module(input)\n"
     ]
    },
    {
     "name": "stdout",
     "output_type": "stream",
     "text": [
      "[   0/1000] train_loss: 0.69335 valid_loss: 0.69324 training_arr: 51.12500 validation_arr: 49.40000 \n",
      "[   1/1000] train_loss: 0.69269 valid_loss: 0.69244 training_arr: 51.65000 validation_arr: 52.25000 \n",
      "[   2/1000] train_loss: 0.69137 valid_loss: 0.68958 training_arr: 57.05000 validation_arr: 57.10000 \n",
      "[   3/1000] train_loss: 0.68294 valid_loss: 0.67322 training_arr: 65.52500 validation_arr: 63.25000 \n",
      "[   4/1000] train_loss: 0.65202 valid_loss: 0.62920 training_arr: 68.35000 validation_arr: 67.80000 \n",
      "[   5/1000] train_loss: 0.60557 valid_loss: 0.59386 training_arr: 71.38750 validation_arr: 71.05000 \n",
      "[   6/1000] train_loss: 0.57802 valid_loss: 0.58267 training_arr: 72.32500 validation_arr: 71.35000 \n",
      "[   7/1000] train_loss: 0.56389 valid_loss: 0.56974 training_arr: 73.76250 validation_arr: 71.90000 \n",
      "[   8/1000] train_loss: 0.56299 valid_loss: 0.56757 training_arr: 74.43750 validation_arr: 72.45000 \n",
      "[   9/1000] train_loss: 0.55595 valid_loss: 0.57456 training_arr: 74.67500 validation_arr: 71.90000 \n",
      "Counter 1 of 5\n",
      "[  10/1000] train_loss: 0.55312 valid_loss: 0.57347 training_arr: 75.06250 validation_arr: 73.00000 \n",
      "[  11/1000] train_loss: 0.55134 valid_loss: 0.56065 training_arr: 75.37500 validation_arr: 73.15000 \n",
      "[  12/1000] train_loss: 0.54864 valid_loss: 0.56641 training_arr: 75.66250 validation_arr: 72.65000 \n",
      "Counter 1 of 5\n",
      "[  13/1000] train_loss: 0.54754 valid_loss: 0.55983 training_arr: 75.98750 validation_arr: 72.45000 \n",
      "Counter 2 of 5\n",
      "[  14/1000] train_loss: 0.54433 valid_loss: 0.56363 training_arr: 76.05000 validation_arr: 72.60000 \n",
      "Counter 3 of 5\n",
      "[  15/1000] train_loss: 0.54098 valid_loss: 0.56429 training_arr: 76.30000 validation_arr: 74.55000 \n",
      "[  16/1000] train_loss: 0.54297 valid_loss: 0.56083 training_arr: 76.67500 validation_arr: 73.80000 \n",
      "Counter 1 of 5\n",
      "[  17/1000] train_loss: 0.54079 valid_loss: 0.56160 training_arr: 76.70000 validation_arr: 73.80000 \n",
      "Counter 2 of 5\n",
      "[  18/1000] train_loss: 0.54097 valid_loss: 0.55751 training_arr: 76.52500 validation_arr: 73.95000 \n",
      "Counter 3 of 5\n",
      "[  19/1000] train_loss: 0.53934 valid_loss: 0.56510 training_arr: 76.73750 validation_arr: 73.75000 \n",
      "Counter 4 of 5\n",
      "[  20/1000] train_loss: 0.53719 valid_loss: 0.55936 training_arr: 76.70000 validation_arr: 74.00000 \n",
      "Counter 5 of 5\n",
      "[  21/1000] train_loss: 0.53593 valid_loss: 0.55802 training_arr: 77.05000 validation_arr: 73.70000 \n",
      "Counter 6 of 5\n",
      "[  22/1000] train_loss: 0.53756 valid_loss: 0.56217 training_arr: 76.95000 validation_arr: 74.15000 \n",
      "Counter 7 of 5\n",
      "[  23/1000] train_loss: 0.53471 valid_loss: 0.56087 training_arr: 77.15000 validation_arr: 73.50000 \n",
      "Counter 8 of 5\n",
      "[  24/1000] train_loss: 0.53169 valid_loss: 0.55575 training_arr: 76.95000 validation_arr: 74.80000 \n",
      "[  25/1000] train_loss: 0.53161 valid_loss: 0.55793 training_arr: 77.42500 validation_arr: 74.30000 \n",
      "Counter 1 of 5\n",
      "[  26/1000] train_loss: 0.52918 valid_loss: 0.55205 training_arr: 77.33750 validation_arr: 74.20000 \n",
      "Counter 2 of 5\n",
      "[  27/1000] train_loss: 0.53100 valid_loss: 0.55519 training_arr: 77.58750 validation_arr: 74.25000 \n",
      "Counter 3 of 5\n",
      "[  28/1000] train_loss: 0.52768 valid_loss: 0.55805 training_arr: 78.12500 validation_arr: 74.30000 \n",
      "Counter 4 of 5\n",
      "[  29/1000] train_loss: 0.52945 valid_loss: 0.55348 training_arr: 78.02500 validation_arr: 74.15000 \n",
      "Counter 5 of 5\n",
      "[  30/1000] train_loss: 0.52634 valid_loss: 0.55915 training_arr: 77.73750 validation_arr: 74.05000 \n",
      "Counter 6 of 5\n",
      "[  31/1000] train_loss: 0.52471 valid_loss: 0.55179 training_arr: 78.01250 validation_arr: 74.15000 \n",
      "Counter 7 of 5\n",
      "[  32/1000] train_loss: 0.52435 valid_loss: 0.56587 training_arr: 78.45000 validation_arr: 74.20000 \n",
      "Counter 8 of 5\n",
      "[  33/1000] train_loss: 0.52474 valid_loss: 0.55561 training_arr: 77.95000 validation_arr: 74.45000 \n",
      "Counter 9 of 5\n",
      "[  34/1000] train_loss: 0.52335 valid_loss: 0.55535 training_arr: 78.17500 validation_arr: 74.15000 \n",
      "Counter 10 of 5\n",
      "[  35/1000] train_loss: 0.52337 valid_loss: 0.54775 training_arr: 78.61250 validation_arr: 74.55000 \n",
      "Counter 11 of 5\n",
      "Early stopping with best_acc:  74.8 and val_acc for this epoch:  74.55 ...\n"
     ]
    },
    {
     "data": {
      "image/png": "[encoded data removed]",
      "text/plain": [
       "<Figure size 432x288 with 1 Axes>"
      ]
     },
     "metadata": {
      "needs_background": "light"
     },
     "output_type": "display_data"
    }
   ],
   "source": [
    "fn = FirstNetwork_v2()\n",
    "fn.to(device)\n",
    "\n",
    "loss_fn = F.cross_entropy\n",
    "opt = optim.Adam(fn.parameters(),lr=0.001)\n",
    "\n",
    "loss_arr=fit_v4(X_train, Y_train, fn, opt, loss_fn)"
   ]
  },
  {
   "cell_type": "code",
   "execution_count": null,
   "metadata": {},
   "outputs": [
    {
     "data": {
      "image/png": "[encoded data removed]",
      "text/plain": [
       "<Figure size 432x288 with 1 Axes>"
      ]
     },
     "metadata": {
      "needs_background": "light"
     },
     "output_type": "display_data"
    }
   ],
   "source": [
    "plt.plot(loss_arr, 'r-')\n",
    "plt.show()"
   ]
  },
  {
   "cell_type": "code",
   "execution_count": null,
   "metadata": {},
   "outputs": [
    {
     "data": {
      "text/plain": [
       "73.9"
      ]
     },
     "execution_count": 51,
     "metadata": {},
     "output_type": "execute_result"
    }
   ],
   "source": [
    "evaluation(validation_loader)   #391"
   ]
  },
  {
   "cell_type": "code",
   "execution_count": null,
   "metadata": {},
   "outputs": [
    {
     "data": {
      "text/plain": [
       "75.07552870090635"
      ]
     },
     "execution_count": 52,
     "metadata": {},
     "output_type": "execute_result"
    }
   ],
   "source": [
    "evaluation(test_loader)"
   ]
  },
  {
   "cell_type": "code",
   "execution_count": null,
   "metadata": {},
   "outputs": [
    {
     "ename": "ImportError",
     "evalue": "cannot import name 'EarlyStopping' from 'pytorchtools' (/raid/home/piyushmishra/miniconda3/envs/newenv/lib/python3.8/site-packages/pytorchtools/__init__.py)",
     "output_type": "error",
     "traceback": [
      "\u001b[0;31m---------------------------------------------------------------------------\u001b[0m",
      "\u001b[0;31mImportError\u001b[0m                               Traceback (most recent call last)",
      "\u001b[1;32m/raid/home/piyushmishra/dlnlp/Assignment1/Assignment1/DLNLP_assignment_1.ipynb Cell 46\u001b[0m in \u001b[0;36m<cell line: 1>\u001b[0;34m()\u001b[0m\n\u001b[0;32m----> <a href='vscode-notebook-cell://ssh-remote%2B10.192.12.61/raid/home/piyushmishra/dlnlp/Assignment1/Assignment1/DLNLP_assignment_1.ipynb#X63sdnNjb2RlLXJlbW90ZQ%3D%3D?line=0'>1</a>\u001b[0m \u001b[39mfrom\u001b[39;00m \u001b[39mpytorchtools\u001b[39;00m \u001b[39mimport\u001b[39;00m EarlyStopping\n",
      "\u001b[0;31mImportError\u001b[0m: cannot import name 'EarlyStopping' from 'pytorchtools' (/raid/home/piyushmishra/miniconda3/envs/newenv/lib/python3.8/site-packages/pytorchtools/__init__.py)"
     ]
    }
   ],
   "source": [
    "from pytorchtools import EarlyStopping\n"
   ]
  },
  {
   "cell_type": "code",
   "execution_count": null,
   "metadata": {},
   "outputs": [],
   "source": []
  }
 ],
 "metadata": {
  "colab": {
   "name": "DLNLP_assignment_1.ipynb",
   "provenance": []
  },
  "kernelspec": {
   "display_name": "Python 3.8.13 ('newenv': conda)",
   "language": "python",
   "name": "python3"
  },
  "language_info": {
   "codemirror_mode": {
    "name": "ipython",
    "version": 3
   },
   "file_extension": ".py",
   "mimetype": "text/x-python",
   "name": "python",
   "nbconvert_exporter": "python",
   "pygments_lexer": "ipython3",
   "version": "3.8.13"
  },
  "vscode": {
   "interpreter": {
    "hash": "52e30b6a095111cac9bf6069db8bddb593b9ee13c71f5b5c46d2273b3df6f796"
   }
  }
 },
 "nbformat": 4,
 "nbformat_minor": 1
}
